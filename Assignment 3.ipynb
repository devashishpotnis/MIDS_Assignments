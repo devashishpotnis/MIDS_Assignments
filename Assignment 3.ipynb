{
 "cells": [
  {
   "cell_type": "code",
   "execution_count": 1,
   "id": "c8dc5cbe",
   "metadata": {},
   "outputs": [
    {
     "name": "stdout",
     "output_type": "stream",
     "text": [
      "Document classification: negative\n",
      "Document classification: positive\n"
     ]
    }
   ],
   "source": [
    "import nltk\n",
    "from nltk.corpus import stopwords\n",
    "from nltk.tokenize import word_tokenize\n",
    "from nltk.classify import NaiveBayesClassifier\n",
    "\n",
    "# Prepare training data\n",
    "positive_reviews = [\n",
    "    'The movie was fantastic and I loved it.',\n",
    "    'I had an amazing experience at the restaurant.',\n",
    "    'The book was captivating and kept me hooked till the end.'\n",
    "]\n",
    "\n",
    "negative_reviews = [\n",
    "    'I was disappointed with the service at the hotel.',\n",
    "    'The product was of poor quality and broke easily.',\n",
    "    'The movie was terrible and I regret watching it.'\n",
    "]\n",
    "\n",
    "stop_words = set(stopwords.words('english'))\n",
    "\n",
    "# Function to extract features from text\n",
    "def extract_features(text):\n",
    "    words = word_tokenize(text.lower())\n",
    "    features = {}\n",
    "    for word in words:\n",
    "        if word in stop_words:\n",
    "            continue\n",
    "        features[word] = True\n",
    "    return features\n",
    "\n",
    "# Prepare training data\n",
    "training_data = []\n",
    "for review in positive_reviews:\n",
    "    training_data.append((extract_features(review), 'positive'))\n",
    "for review in negative_reviews:\n",
    "    training_data.append((extract_features(review), 'negative'))\n",
    "\n",
    "# Train the classifier\n",
    "classifier = NaiveBayesClassifier.train(training_data)\n",
    "\n",
    "# Classify a new document\n",
    "document = \"I am very disappointed with this movie.\"\n",
    "features = extract_features(document)\n",
    "classification = classifier.classify(features)\n",
    "print(\"Document classification:\", classification)\n",
    "\n",
    "document2 = \"This is a good movie\"\n",
    "features2 = extract_features(document2)\n",
    "classification2 = classifier.classify(features2)\n",
    "print(\"Document classification:\", classification2)\n"
   ]
  },
  {
   "cell_type": "code",
   "execution_count": null,
   "id": "8baf5c1a",
   "metadata": {},
   "outputs": [],
   "source": []
  }
 ],
 "metadata": {
  "kernelspec": {
   "display_name": "Python 3 (ipykernel)",
   "language": "python",
   "name": "python3"
  },
  "language_info": {
   "codemirror_mode": {
    "name": "ipython",
    "version": 3
   },
   "file_extension": ".py",
   "mimetype": "text/x-python",
   "name": "python",
   "nbconvert_exporter": "python",
   "pygments_lexer": "ipython3",
   "version": "3.8.10"
  }
 },
 "nbformat": 4,
 "nbformat_minor": 5
}
